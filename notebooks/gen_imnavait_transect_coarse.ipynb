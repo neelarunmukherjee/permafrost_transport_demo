{
 "cells": [
  {
   "cell_type": "code",
   "execution_count": 1,
   "metadata": {},
   "outputs": [],
   "source": [
    "import sys,os\n",
    "import numpy as np\n",
    "from matplotlib import pyplot as plt\n",
    "\n",
    "# This is the standard path for SEACAS if Amanzi TPLS are built via\n",
    "# bootstrap with --build-shared\n",
    "try:\n",
    "    import exodus\n",
    "except ImportError:\n",
    "    sys.path.append(os.path.join(os.environ['AMANZI_TPLS_DIR'],'SEACAS', 'lib'))\n",
    "    import exodus\n",
    "\n",
    "# This is the standard path for ATS's source directory    \n",
    "try:\n",
    "    import meshing_ats\n",
    "except ImportError:\n",
    "    sys.path.append(os.path.join(os.environ['ATS_SRC_DIR'],'tools','meshing','meshing_ats'))\n",
    "    import meshing_ats"
   ]
  },
  {
   "cell_type": "code",
   "execution_count": 4,
   "metadata": {},
   "outputs": [],
   "source": [
    "x = np.array([0,9.33,22.31,30.30,35.87,41.84,47.36,53.44,59.45,65.51,71.86,77.70,84.20,90.42,95.91,98.68,102.63,106.68,109.00])\n",
    "z = np.array([892.00,891.71,891.41,891.24,891.17,891.02,890.93,890.81,890.58,890.41,890.33,890.17,889.93,889.77,889.58,889.53,889.41,889.25,889.00])"
   ]
  },
  {
   "cell_type": "code",
   "execution_count": 5,
   "metadata": {},
   "outputs": [
    {
     "data": {
      "text/plain": [
       "np.float64(12.111111111111114)"
      ]
     },
     "execution_count": 5,
     "metadata": {},
     "output_type": "execute_result"
    }
   ],
   "source": [
    "n = 10  # increase decrease horizontal coarseness\n",
    "x_interp = np.linspace(x[0], x[-1], n)\n",
    "z = np.interp(x_interp, x, z)\n",
    "x = x_interp\n",
    "dx = x[n-5] - x[n-6]\n",
    "dx"
   ]
  },
  {
   "cell_type": "code",
   "execution_count": 6,
   "metadata": {},
   "outputs": [],
   "source": [
    "m2 = meshing_ats.Mesh2D.from_Transect(x,z)\n",
    "layer_types = []\n",
    "layer_data = []\n",
    "layer_ncells = []\n",
    "layer_mat_ids = []\n",
    "z = 0.0"
   ]
  },
  {
   "cell_type": "code",
   "execution_count": 7,
   "metadata": {},
   "outputs": [],
   "source": [
    "# -- acrotelm layer --\n",
    "#  top 6 cm (z_ac)\n",
    "#  dz = 1 cm per grid cell\n",
    "#  10 cells\n",
    "layer_types.append(\"constant\")\n",
    "layer_data.append(0.06)\n",
    "layer_ncells.append(6)\n",
    "layer_mat_ids.append(1001)\n",
    "z -= 0.06\n",
    "\n",
    "# -- catotelm layer  --\n",
    "#  z_ct =  27 cm\n",
    "#  dz = 1 cm per grid cell\n",
    "#  27 cells\n",
    "layer_types.append(\"constant\")\n",
    "layer_data.append(0.27)\n",
    "layer_ncells.append(27)\n",
    "layer_mat_ids.append(1002)\n",
    "z -= 0.27\n",
    "\n",
    "# - mineral layer  --\n",
    "#  z_mn =  60 cm\n",
    "#  dz = 1 cm per grid cell\n",
    "#  60 cells\n",
    "layer_types.append(\"constant\")\n",
    "layer_data.append(0.6)\n",
    "layer_ncells.append(60)\n",
    "layer_mat_ids.append(1003)\n",
    "z -= 0.6\n",
    "\n",
    "# -- mineral layer part 2 --\n",
    "#  50 cells\n",
    "#  expanding dz, growing with depth\n",
    "ncells = 50\n",
    "dz = 0.02\n",
    "for i in range(ncells):\n",
    "    dz *= 1.05\n",
    "    # print(dz)\n",
    "    layer_types.append(\"constant\")\n",
    "    layer_data.append(dz)\n",
    "    layer_ncells.append(1)\n",
    "    layer_mat_ids.append(1003)\n",
    "    z -= dz\n",
    "\n",
    "# -- mineral layer part 3 --\n",
    "#  keep expanding until we hit dz =  1.5 m\n",
    "#  expanding dz, growing with depth\n",
    "dz *= 1.05\n",
    "while dz < 1.8:\n",
    "    layer_types.append(\"constant\")\n",
    "    layer_data.append(dz)\n",
    "    layer_ncells.append(1)\n",
    "    layer_mat_ids.append(1003)\n",
    "    z -= dz\n",
    "    dz *= 1.05\n",
    "\n",
    "# # -- mineral layer part 5 --\n",
    "# # keep going for 1m cells until we hit the bottom of\n",
    "# # the domain\n",
    "layer_types.append(\"constant\")\n",
    "layer_data.append(40 + z) # depth of bottom of domain is 40 m\n",
    "layer_ncells.append(int(round(layer_data[-1] / 2.0)))\n",
    "layer_mat_ids.append(1003)\n"
   ]
  },
  {
   "cell_type": "code",
   "execution_count": 9,
   "metadata": {},
   "outputs": [
    {
     "name": "stdout",
     "output_type": "stream",
     "text": [
      "Opening exodus file: ../data/transect_imnavait_grace_v2_coarse.exo\n",
      "Closing exodus file: ../data/transect_imnavait_grace_v2_coarse.exo\n"
     ]
    }
   ],
   "source": [
    "# Extrude the 2D model with this structure and write to file\n",
    "m3 = meshing_ats.Mesh3D.extruded_Mesh2D(m2, layer_types, \n",
    "                                        layer_data, \n",
    "                                        layer_ncells, \n",
    "                                        layer_mat_ids)\n",
    "\n",
    "m3.write_exodus(\"../data/transect_imnavait_grace_v2_coarse.exo\")"
   ]
  },
  {
   "cell_type": "code",
   "execution_count": 11,
   "metadata": {},
   "outputs": [
    {
     "name": "stdout",
     "output_type": "stream",
     "text": [
      "Opening exodus file: ../data/transect_imnavait_grace_v2_coarse.exo\n",
      "X Extent: 0.0 to 109.0\n",
      "Y Extent: 0.0 to 1.0\n",
      "Z Extent: 849.0000000000003 to 892.0\n",
      "Closing exodus file: ../data/transect_imnavait_grace_v2_coarse.exo\n"
     ]
    }
   ],
   "source": [
    "exo_file = exodus.exodus(\"../data/transect_imnavait_grace_v2_coarse.exo\", mode=\"r\")\n",
    "x, y, z = exo_file.get_coords()\n",
    "xmin, xmax = min(x), max(x)\n",
    "ymin, ymax = min(y), max(y)\n",
    "zmin, zmax = min(z), max(z)\n",
    "\n",
    "print(f\"X Extent: {xmin} to {xmax}\")\n",
    "print(f\"Y Extent: {ymin} to {ymax}\")\n",
    "print(f\"Z Extent: {zmin} to {zmax}\")\n",
    "\n",
    "exo_file.close()"
   ]
  }
 ],
 "metadata": {
  "kernelspec": {
   "display_name": "newatsenv",
   "language": "python",
   "name": "python3"
  },
  "language_info": {
   "codemirror_mode": {
    "name": "ipython",
    "version": 3
   },
   "file_extension": ".py",
   "mimetype": "text/x-python",
   "name": "python",
   "nbconvert_exporter": "python",
   "pygments_lexer": "ipython3",
   "version": "3.12.8"
  }
 },
 "nbformat": 4,
 "nbformat_minor": 2
}
